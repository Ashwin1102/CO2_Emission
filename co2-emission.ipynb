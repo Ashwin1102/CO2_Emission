{
 "cells": [
  {
   "cell_type": "code",
   "execution_count": 1,
   "id": "1236abd5",
   "metadata": {
    "execution": {
     "iopub.execute_input": "2023-08-17T05:00:59.240400Z",
     "iopub.status.busy": "2023-08-17T05:00:59.239797Z",
     "iopub.status.idle": "2023-08-17T05:00:59.255812Z",
     "shell.execute_reply": "2023-08-17T05:00:59.254335Z"
    },
    "papermill": {
     "duration": 0.033774,
     "end_time": "2023-08-17T05:00:59.258736",
     "exception": false,
     "start_time": "2023-08-17T05:00:59.224962",
     "status": "completed"
    },
    "tags": []
   },
   "outputs": [],
   "source": [
    "import pandas as pd"
   ]
  },
  {
   "cell_type": "code",
   "execution_count": 2,
   "id": "8f3fd0ab",
   "metadata": {
    "execution": {
     "iopub.execute_input": "2023-08-17T05:00:59.281446Z",
     "iopub.status.busy": "2023-08-17T05:00:59.281024Z",
     "iopub.status.idle": "2023-08-17T05:01:01.664674Z",
     "shell.execute_reply": "2023-08-17T05:01:01.663396Z"
    },
    "papermill": {
     "duration": 2.398021,
     "end_time": "2023-08-17T05:01:01.667535",
     "exception": false,
     "start_time": "2023-08-17T05:00:59.269514",
     "status": "completed"
    },
    "tags": []
   },
   "outputs": [],
   "source": [
    "df = pd.read_csv(\"/kaggle/input/playground-series-s3e20/train.csv\")"
   ]
  },
  {
   "cell_type": "code",
   "execution_count": 3,
   "id": "c2436f02",
   "metadata": {
    "execution": {
     "iopub.execute_input": "2023-08-17T05:01:01.689410Z",
     "iopub.status.busy": "2023-08-17T05:01:01.688964Z",
     "iopub.status.idle": "2023-08-17T05:01:01.733579Z",
     "shell.execute_reply": "2023-08-17T05:01:01.732578Z"
    },
    "papermill": {
     "duration": 0.059126,
     "end_time": "2023-08-17T05:01:01.736698",
     "exception": false,
     "start_time": "2023-08-17T05:01:01.677572",
     "status": "completed"
    },
    "tags": []
   },
   "outputs": [
    {
     "data": {
      "text/html": [
       "<div>\n",
       "<style scoped>\n",
       "    .dataframe tbody tr th:only-of-type {\n",
       "        vertical-align: middle;\n",
       "    }\n",
       "\n",
       "    .dataframe tbody tr th {\n",
       "        vertical-align: top;\n",
       "    }\n",
       "\n",
       "    .dataframe thead th {\n",
       "        text-align: right;\n",
       "    }\n",
       "</style>\n",
       "<table border=\"1\" class=\"dataframe\">\n",
       "  <thead>\n",
       "    <tr style=\"text-align: right;\">\n",
       "      <th></th>\n",
       "      <th>ID_LAT_LON_YEAR_WEEK</th>\n",
       "      <th>latitude</th>\n",
       "      <th>longitude</th>\n",
       "      <th>year</th>\n",
       "      <th>week_no</th>\n",
       "      <th>SulphurDioxide_SO2_column_number_density</th>\n",
       "      <th>SulphurDioxide_SO2_column_number_density_amf</th>\n",
       "      <th>SulphurDioxide_SO2_slant_column_number_density</th>\n",
       "      <th>SulphurDioxide_cloud_fraction</th>\n",
       "      <th>SulphurDioxide_sensor_azimuth_angle</th>\n",
       "      <th>...</th>\n",
       "      <th>Cloud_cloud_top_height</th>\n",
       "      <th>Cloud_cloud_base_pressure</th>\n",
       "      <th>Cloud_cloud_base_height</th>\n",
       "      <th>Cloud_cloud_optical_depth</th>\n",
       "      <th>Cloud_surface_albedo</th>\n",
       "      <th>Cloud_sensor_azimuth_angle</th>\n",
       "      <th>Cloud_sensor_zenith_angle</th>\n",
       "      <th>Cloud_solar_azimuth_angle</th>\n",
       "      <th>Cloud_solar_zenith_angle</th>\n",
       "      <th>emission</th>\n",
       "    </tr>\n",
       "  </thead>\n",
       "  <tbody>\n",
       "    <tr>\n",
       "      <th>0</th>\n",
       "      <td>ID_-0.510_29.290_2019_00</td>\n",
       "      <td>-0.51</td>\n",
       "      <td>29.29</td>\n",
       "      <td>2019</td>\n",
       "      <td>0</td>\n",
       "      <td>-0.000108</td>\n",
       "      <td>0.603019</td>\n",
       "      <td>-0.000065</td>\n",
       "      <td>0.255668</td>\n",
       "      <td>-98.593887</td>\n",
       "      <td>...</td>\n",
       "      <td>3664.436218</td>\n",
       "      <td>61085.809570</td>\n",
       "      <td>2615.120483</td>\n",
       "      <td>15.568533</td>\n",
       "      <td>0.272292</td>\n",
       "      <td>-12.628986</td>\n",
       "      <td>35.632416</td>\n",
       "      <td>-138.786423</td>\n",
       "      <td>30.752140</td>\n",
       "      <td>3.750994</td>\n",
       "    </tr>\n",
       "    <tr>\n",
       "      <th>1</th>\n",
       "      <td>ID_-0.510_29.290_2019_01</td>\n",
       "      <td>-0.51</td>\n",
       "      <td>29.29</td>\n",
       "      <td>2019</td>\n",
       "      <td>1</td>\n",
       "      <td>0.000021</td>\n",
       "      <td>0.728214</td>\n",
       "      <td>0.000014</td>\n",
       "      <td>0.130988</td>\n",
       "      <td>16.592861</td>\n",
       "      <td>...</td>\n",
       "      <td>3651.190311</td>\n",
       "      <td>66969.478735</td>\n",
       "      <td>3174.572424</td>\n",
       "      <td>8.690601</td>\n",
       "      <td>0.256830</td>\n",
       "      <td>30.359375</td>\n",
       "      <td>39.557633</td>\n",
       "      <td>-145.183930</td>\n",
       "      <td>27.251779</td>\n",
       "      <td>4.025176</td>\n",
       "    </tr>\n",
       "    <tr>\n",
       "      <th>2</th>\n",
       "      <td>ID_-0.510_29.290_2019_02</td>\n",
       "      <td>-0.51</td>\n",
       "      <td>29.29</td>\n",
       "      <td>2019</td>\n",
       "      <td>2</td>\n",
       "      <td>0.000514</td>\n",
       "      <td>0.748199</td>\n",
       "      <td>0.000385</td>\n",
       "      <td>0.110018</td>\n",
       "      <td>72.795837</td>\n",
       "      <td>...</td>\n",
       "      <td>4216.986492</td>\n",
       "      <td>60068.894448</td>\n",
       "      <td>3516.282669</td>\n",
       "      <td>21.103410</td>\n",
       "      <td>0.251101</td>\n",
       "      <td>15.377883</td>\n",
       "      <td>30.401823</td>\n",
       "      <td>-142.519545</td>\n",
       "      <td>26.193296</td>\n",
       "      <td>4.231381</td>\n",
       "    </tr>\n",
       "    <tr>\n",
       "      <th>3</th>\n",
       "      <td>ID_-0.510_29.290_2019_03</td>\n",
       "      <td>-0.51</td>\n",
       "      <td>29.29</td>\n",
       "      <td>2019</td>\n",
       "      <td>3</td>\n",
       "      <td>NaN</td>\n",
       "      <td>NaN</td>\n",
       "      <td>NaN</td>\n",
       "      <td>NaN</td>\n",
       "      <td>NaN</td>\n",
       "      <td>...</td>\n",
       "      <td>5228.507736</td>\n",
       "      <td>51064.547339</td>\n",
       "      <td>4180.973322</td>\n",
       "      <td>15.386899</td>\n",
       "      <td>0.262043</td>\n",
       "      <td>-11.293399</td>\n",
       "      <td>24.380357</td>\n",
       "      <td>-132.665828</td>\n",
       "      <td>28.829155</td>\n",
       "      <td>4.305286</td>\n",
       "    </tr>\n",
       "    <tr>\n",
       "      <th>4</th>\n",
       "      <td>ID_-0.510_29.290_2019_04</td>\n",
       "      <td>-0.51</td>\n",
       "      <td>29.29</td>\n",
       "      <td>2019</td>\n",
       "      <td>4</td>\n",
       "      <td>-0.000079</td>\n",
       "      <td>0.676296</td>\n",
       "      <td>-0.000048</td>\n",
       "      <td>0.121164</td>\n",
       "      <td>4.121269</td>\n",
       "      <td>...</td>\n",
       "      <td>3980.598120</td>\n",
       "      <td>63751.125781</td>\n",
       "      <td>3355.710107</td>\n",
       "      <td>8.114694</td>\n",
       "      <td>0.235847</td>\n",
       "      <td>38.532263</td>\n",
       "      <td>37.392979</td>\n",
       "      <td>-141.509805</td>\n",
       "      <td>22.204612</td>\n",
       "      <td>4.347317</td>\n",
       "    </tr>\n",
       "  </tbody>\n",
       "</table>\n",
       "<p>5 rows × 76 columns</p>\n",
       "</div>"
      ],
      "text/plain": [
       "       ID_LAT_LON_YEAR_WEEK  latitude  longitude  year  week_no  \\\n",
       "0  ID_-0.510_29.290_2019_00     -0.51      29.29  2019        0   \n",
       "1  ID_-0.510_29.290_2019_01     -0.51      29.29  2019        1   \n",
       "2  ID_-0.510_29.290_2019_02     -0.51      29.29  2019        2   \n",
       "3  ID_-0.510_29.290_2019_03     -0.51      29.29  2019        3   \n",
       "4  ID_-0.510_29.290_2019_04     -0.51      29.29  2019        4   \n",
       "\n",
       "   SulphurDioxide_SO2_column_number_density  \\\n",
       "0                                 -0.000108   \n",
       "1                                  0.000021   \n",
       "2                                  0.000514   \n",
       "3                                       NaN   \n",
       "4                                 -0.000079   \n",
       "\n",
       "   SulphurDioxide_SO2_column_number_density_amf  \\\n",
       "0                                      0.603019   \n",
       "1                                      0.728214   \n",
       "2                                      0.748199   \n",
       "3                                           NaN   \n",
       "4                                      0.676296   \n",
       "\n",
       "   SulphurDioxide_SO2_slant_column_number_density  \\\n",
       "0                                       -0.000065   \n",
       "1                                        0.000014   \n",
       "2                                        0.000385   \n",
       "3                                             NaN   \n",
       "4                                       -0.000048   \n",
       "\n",
       "   SulphurDioxide_cloud_fraction  SulphurDioxide_sensor_azimuth_angle  ...  \\\n",
       "0                       0.255668                           -98.593887  ...   \n",
       "1                       0.130988                            16.592861  ...   \n",
       "2                       0.110018                            72.795837  ...   \n",
       "3                            NaN                                  NaN  ...   \n",
       "4                       0.121164                             4.121269  ...   \n",
       "\n",
       "   Cloud_cloud_top_height  Cloud_cloud_base_pressure  Cloud_cloud_base_height  \\\n",
       "0             3664.436218               61085.809570              2615.120483   \n",
       "1             3651.190311               66969.478735              3174.572424   \n",
       "2             4216.986492               60068.894448              3516.282669   \n",
       "3             5228.507736               51064.547339              4180.973322   \n",
       "4             3980.598120               63751.125781              3355.710107   \n",
       "\n",
       "   Cloud_cloud_optical_depth  Cloud_surface_albedo  \\\n",
       "0                  15.568533              0.272292   \n",
       "1                   8.690601              0.256830   \n",
       "2                  21.103410              0.251101   \n",
       "3                  15.386899              0.262043   \n",
       "4                   8.114694              0.235847   \n",
       "\n",
       "   Cloud_sensor_azimuth_angle  Cloud_sensor_zenith_angle  \\\n",
       "0                  -12.628986                  35.632416   \n",
       "1                   30.359375                  39.557633   \n",
       "2                   15.377883                  30.401823   \n",
       "3                  -11.293399                  24.380357   \n",
       "4                   38.532263                  37.392979   \n",
       "\n",
       "   Cloud_solar_azimuth_angle  Cloud_solar_zenith_angle  emission  \n",
       "0                -138.786423                 30.752140  3.750994  \n",
       "1                -145.183930                 27.251779  4.025176  \n",
       "2                -142.519545                 26.193296  4.231381  \n",
       "3                -132.665828                 28.829155  4.305286  \n",
       "4                -141.509805                 22.204612  4.347317  \n",
       "\n",
       "[5 rows x 76 columns]"
      ]
     },
     "execution_count": 3,
     "metadata": {},
     "output_type": "execute_result"
    }
   ],
   "source": [
    "df.head()"
   ]
  },
  {
   "cell_type": "code",
   "execution_count": 4,
   "id": "28dccf93",
   "metadata": {
    "execution": {
     "iopub.execute_input": "2023-08-17T05:01:01.758707Z",
     "iopub.status.busy": "2023-08-17T05:01:01.758318Z",
     "iopub.status.idle": "2023-08-17T05:01:02.299125Z",
     "shell.execute_reply": "2023-08-17T05:01:02.298081Z"
    },
    "papermill": {
     "duration": 0.555618,
     "end_time": "2023-08-17T05:01:02.302457",
     "exception": false,
     "start_time": "2023-08-17T05:01:01.746839",
     "status": "completed"
    },
    "tags": []
   },
   "outputs": [
    {
     "data": {
      "text/html": [
       "<div>\n",
       "<style scoped>\n",
       "    .dataframe tbody tr th:only-of-type {\n",
       "        vertical-align: middle;\n",
       "    }\n",
       "\n",
       "    .dataframe tbody tr th {\n",
       "        vertical-align: top;\n",
       "    }\n",
       "\n",
       "    .dataframe thead th {\n",
       "        text-align: right;\n",
       "    }\n",
       "</style>\n",
       "<table border=\"1\" class=\"dataframe\">\n",
       "  <thead>\n",
       "    <tr style=\"text-align: right;\">\n",
       "      <th></th>\n",
       "      <th>latitude</th>\n",
       "      <th>longitude</th>\n",
       "      <th>year</th>\n",
       "      <th>week_no</th>\n",
       "      <th>SulphurDioxide_SO2_column_number_density</th>\n",
       "      <th>SulphurDioxide_SO2_column_number_density_amf</th>\n",
       "      <th>SulphurDioxide_SO2_slant_column_number_density</th>\n",
       "      <th>SulphurDioxide_cloud_fraction</th>\n",
       "      <th>SulphurDioxide_sensor_azimuth_angle</th>\n",
       "      <th>SulphurDioxide_sensor_zenith_angle</th>\n",
       "      <th>...</th>\n",
       "      <th>Cloud_cloud_top_height</th>\n",
       "      <th>Cloud_cloud_base_pressure</th>\n",
       "      <th>Cloud_cloud_base_height</th>\n",
       "      <th>Cloud_cloud_optical_depth</th>\n",
       "      <th>Cloud_surface_albedo</th>\n",
       "      <th>Cloud_sensor_azimuth_angle</th>\n",
       "      <th>Cloud_sensor_zenith_angle</th>\n",
       "      <th>Cloud_solar_azimuth_angle</th>\n",
       "      <th>Cloud_solar_zenith_angle</th>\n",
       "      <th>emission</th>\n",
       "    </tr>\n",
       "  </thead>\n",
       "  <tbody>\n",
       "    <tr>\n",
       "      <th>count</th>\n",
       "      <td>79023.000000</td>\n",
       "      <td>79023.000000</td>\n",
       "      <td>79023.000000</td>\n",
       "      <td>79023.000000</td>\n",
       "      <td>64414.000000</td>\n",
       "      <td>64414.000000</td>\n",
       "      <td>64414.000000</td>\n",
       "      <td>64414.000000</td>\n",
       "      <td>64414.000000</td>\n",
       "      <td>64414.000000</td>\n",
       "      <td>...</td>\n",
       "      <td>78539.000000</td>\n",
       "      <td>78539.000000</td>\n",
       "      <td>78539.000000</td>\n",
       "      <td>78539.000000</td>\n",
       "      <td>78539.000000</td>\n",
       "      <td>78539.000000</td>\n",
       "      <td>78539.000000</td>\n",
       "      <td>78539.000000</td>\n",
       "      <td>78539.000000</td>\n",
       "      <td>79023.000000</td>\n",
       "    </tr>\n",
       "    <tr>\n",
       "      <th>mean</th>\n",
       "      <td>-1.891072</td>\n",
       "      <td>29.880155</td>\n",
       "      <td>2020.000000</td>\n",
       "      <td>26.000000</td>\n",
       "      <td>0.000048</td>\n",
       "      <td>0.834848</td>\n",
       "      <td>0.000035</td>\n",
       "      <td>0.158418</td>\n",
       "      <td>-7.925870</td>\n",
       "      <td>37.436189</td>\n",
       "      <td>...</td>\n",
       "      <td>5592.377478</td>\n",
       "      <td>59420.297456</td>\n",
       "      <td>4670.430869</td>\n",
       "      <td>19.139241</td>\n",
       "      <td>0.271460</td>\n",
       "      <td>-10.784832</td>\n",
       "      <td>40.436976</td>\n",
       "      <td>-86.800583</td>\n",
       "      <td>27.925981</td>\n",
       "      <td>81.940552</td>\n",
       "    </tr>\n",
       "    <tr>\n",
       "      <th>std</th>\n",
       "      <td>0.694522</td>\n",
       "      <td>0.810375</td>\n",
       "      <td>0.816502</td>\n",
       "      <td>15.297155</td>\n",
       "      <td>0.000272</td>\n",
       "      <td>0.185382</td>\n",
       "      <td>0.000206</td>\n",
       "      <td>0.071364</td>\n",
       "      <td>64.263368</td>\n",
       "      <td>14.149950</td>\n",
       "      <td>...</td>\n",
       "      <td>1428.503002</td>\n",
       "      <td>9051.163609</td>\n",
       "      <td>1359.251583</td>\n",
       "      <td>13.547047</td>\n",
       "      <td>0.049434</td>\n",
       "      <td>30.374462</td>\n",
       "      <td>6.428216</td>\n",
       "      <td>37.837269</td>\n",
       "      <td>4.403835</td>\n",
       "      <td>144.299648</td>\n",
       "    </tr>\n",
       "    <tr>\n",
       "      <th>min</th>\n",
       "      <td>-3.299000</td>\n",
       "      <td>28.228000</td>\n",
       "      <td>2019.000000</td>\n",
       "      <td>0.000000</td>\n",
       "      <td>-0.000996</td>\n",
       "      <td>0.241822</td>\n",
       "      <td>-0.000887</td>\n",
       "      <td>0.000000</td>\n",
       "      <td>-179.537059</td>\n",
       "      <td>0.099237</td>\n",
       "      <td>...</td>\n",
       "      <td>1050.661782</td>\n",
       "      <td>24779.033704</td>\n",
       "      <td>1050.496816</td>\n",
       "      <td>1.844529</td>\n",
       "      <td>0.017697</td>\n",
       "      <td>-102.739731</td>\n",
       "      <td>2.998873</td>\n",
       "      <td>-153.464211</td>\n",
       "      <td>10.818288</td>\n",
       "      <td>0.000000</td>\n",
       "    </tr>\n",
       "    <tr>\n",
       "      <th>25%</th>\n",
       "      <td>-2.451000</td>\n",
       "      <td>29.262000</td>\n",
       "      <td>2019.000000</td>\n",
       "      <td>13.000000</td>\n",
       "      <td>-0.000096</td>\n",
       "      <td>0.705817</td>\n",
       "      <td>-0.000078</td>\n",
       "      <td>0.110535</td>\n",
       "      <td>-56.782383</td>\n",
       "      <td>28.844520</td>\n",
       "      <td>...</td>\n",
       "      <td>4595.400519</td>\n",
       "      <td>53175.779928</td>\n",
       "      <td>3680.856344</td>\n",
       "      <td>9.974574</td>\n",
       "      <td>0.241453</td>\n",
       "      <td>-30.309170</td>\n",
       "      <td>35.829907</td>\n",
       "      <td>-125.991158</td>\n",
       "      <td>24.686763</td>\n",
       "      <td>9.797995</td>\n",
       "    </tr>\n",
       "    <tr>\n",
       "      <th>50%</th>\n",
       "      <td>-1.882000</td>\n",
       "      <td>29.883000</td>\n",
       "      <td>2020.000000</td>\n",
       "      <td>26.000000</td>\n",
       "      <td>0.000024</td>\n",
       "      <td>0.809118</td>\n",
       "      <td>0.000019</td>\n",
       "      <td>0.161855</td>\n",
       "      <td>-12.441726</td>\n",
       "      <td>37.784299</td>\n",
       "      <td>...</td>\n",
       "      <td>5573.854309</td>\n",
       "      <td>59332.532548</td>\n",
       "      <td>4621.755170</td>\n",
       "      <td>15.130688</td>\n",
       "      <td>0.272747</td>\n",
       "      <td>-12.673914</td>\n",
       "      <td>41.119630</td>\n",
       "      <td>-84.644352</td>\n",
       "      <td>28.333630</td>\n",
       "      <td>45.593445</td>\n",
       "    </tr>\n",
       "    <tr>\n",
       "      <th>75%</th>\n",
       "      <td>-1.303000</td>\n",
       "      <td>30.471000</td>\n",
       "      <td>2021.000000</td>\n",
       "      <td>39.000000</td>\n",
       "      <td>0.000153</td>\n",
       "      <td>0.942792</td>\n",
       "      <td>0.000121</td>\n",
       "      <td>0.211824</td>\n",
       "      <td>72.059990</td>\n",
       "      <td>47.634875</td>\n",
       "      <td>...</td>\n",
       "      <td>6542.303642</td>\n",
       "      <td>65663.842684</td>\n",
       "      <td>5572.983223</td>\n",
       "      <td>23.785030</td>\n",
       "      <td>0.302892</td>\n",
       "      <td>9.402202</td>\n",
       "      <td>44.446272</td>\n",
       "      <td>-48.132701</td>\n",
       "      <td>31.499883</td>\n",
       "      <td>109.549595</td>\n",
       "    </tr>\n",
       "    <tr>\n",
       "      <th>max</th>\n",
       "      <td>-0.510000</td>\n",
       "      <td>31.532000</td>\n",
       "      <td>2021.000000</td>\n",
       "      <td>52.000000</td>\n",
       "      <td>0.004191</td>\n",
       "      <td>1.885239</td>\n",
       "      <td>0.004236</td>\n",
       "      <td>0.299998</td>\n",
       "      <td>122.095200</td>\n",
       "      <td>66.242012</td>\n",
       "      <td>...</td>\n",
       "      <td>12384.239458</td>\n",
       "      <td>89291.615576</td>\n",
       "      <td>11384.239458</td>\n",
       "      <td>250.000000</td>\n",
       "      <td>0.736514</td>\n",
       "      <td>78.223037</td>\n",
       "      <td>65.951248</td>\n",
       "      <td>-22.653170</td>\n",
       "      <td>42.060436</td>\n",
       "      <td>3167.768000</td>\n",
       "    </tr>\n",
       "  </tbody>\n",
       "</table>\n",
       "<p>8 rows × 75 columns</p>\n",
       "</div>"
      ],
      "text/plain": [
       "           latitude     longitude          year       week_no  \\\n",
       "count  79023.000000  79023.000000  79023.000000  79023.000000   \n",
       "mean      -1.891072     29.880155   2020.000000     26.000000   \n",
       "std        0.694522      0.810375      0.816502     15.297155   \n",
       "min       -3.299000     28.228000   2019.000000      0.000000   \n",
       "25%       -2.451000     29.262000   2019.000000     13.000000   \n",
       "50%       -1.882000     29.883000   2020.000000     26.000000   \n",
       "75%       -1.303000     30.471000   2021.000000     39.000000   \n",
       "max       -0.510000     31.532000   2021.000000     52.000000   \n",
       "\n",
       "       SulphurDioxide_SO2_column_number_density  \\\n",
       "count                              64414.000000   \n",
       "mean                                   0.000048   \n",
       "std                                    0.000272   \n",
       "min                                   -0.000996   \n",
       "25%                                   -0.000096   \n",
       "50%                                    0.000024   \n",
       "75%                                    0.000153   \n",
       "max                                    0.004191   \n",
       "\n",
       "       SulphurDioxide_SO2_column_number_density_amf  \\\n",
       "count                                  64414.000000   \n",
       "mean                                       0.834848   \n",
       "std                                        0.185382   \n",
       "min                                        0.241822   \n",
       "25%                                        0.705817   \n",
       "50%                                        0.809118   \n",
       "75%                                        0.942792   \n",
       "max                                        1.885239   \n",
       "\n",
       "       SulphurDioxide_SO2_slant_column_number_density  \\\n",
       "count                                    64414.000000   \n",
       "mean                                         0.000035   \n",
       "std                                          0.000206   \n",
       "min                                         -0.000887   \n",
       "25%                                         -0.000078   \n",
       "50%                                          0.000019   \n",
       "75%                                          0.000121   \n",
       "max                                          0.004236   \n",
       "\n",
       "       SulphurDioxide_cloud_fraction  SulphurDioxide_sensor_azimuth_angle  \\\n",
       "count                   64414.000000                         64414.000000   \n",
       "mean                        0.158418                            -7.925870   \n",
       "std                         0.071364                            64.263368   \n",
       "min                         0.000000                          -179.537059   \n",
       "25%                         0.110535                           -56.782383   \n",
       "50%                         0.161855                           -12.441726   \n",
       "75%                         0.211824                            72.059990   \n",
       "max                         0.299998                           122.095200   \n",
       "\n",
       "       SulphurDioxide_sensor_zenith_angle  ...  Cloud_cloud_top_height  \\\n",
       "count                        64414.000000  ...            78539.000000   \n",
       "mean                            37.436189  ...             5592.377478   \n",
       "std                             14.149950  ...             1428.503002   \n",
       "min                              0.099237  ...             1050.661782   \n",
       "25%                             28.844520  ...             4595.400519   \n",
       "50%                             37.784299  ...             5573.854309   \n",
       "75%                             47.634875  ...             6542.303642   \n",
       "max                             66.242012  ...            12384.239458   \n",
       "\n",
       "       Cloud_cloud_base_pressure  Cloud_cloud_base_height  \\\n",
       "count               78539.000000             78539.000000   \n",
       "mean                59420.297456              4670.430869   \n",
       "std                  9051.163609              1359.251583   \n",
       "min                 24779.033704              1050.496816   \n",
       "25%                 53175.779928              3680.856344   \n",
       "50%                 59332.532548              4621.755170   \n",
       "75%                 65663.842684              5572.983223   \n",
       "max                 89291.615576             11384.239458   \n",
       "\n",
       "       Cloud_cloud_optical_depth  Cloud_surface_albedo  \\\n",
       "count               78539.000000          78539.000000   \n",
       "mean                   19.139241              0.271460   \n",
       "std                    13.547047              0.049434   \n",
       "min                     1.844529              0.017697   \n",
       "25%                     9.974574              0.241453   \n",
       "50%                    15.130688              0.272747   \n",
       "75%                    23.785030              0.302892   \n",
       "max                   250.000000              0.736514   \n",
       "\n",
       "       Cloud_sensor_azimuth_angle  Cloud_sensor_zenith_angle  \\\n",
       "count                78539.000000               78539.000000   \n",
       "mean                   -10.784832                  40.436976   \n",
       "std                     30.374462                   6.428216   \n",
       "min                   -102.739731                   2.998873   \n",
       "25%                    -30.309170                  35.829907   \n",
       "50%                    -12.673914                  41.119630   \n",
       "75%                      9.402202                  44.446272   \n",
       "max                     78.223037                  65.951248   \n",
       "\n",
       "       Cloud_solar_azimuth_angle  Cloud_solar_zenith_angle      emission  \n",
       "count               78539.000000              78539.000000  79023.000000  \n",
       "mean                  -86.800583                 27.925981     81.940552  \n",
       "std                    37.837269                  4.403835    144.299648  \n",
       "min                  -153.464211                 10.818288      0.000000  \n",
       "25%                  -125.991158                 24.686763      9.797995  \n",
       "50%                   -84.644352                 28.333630     45.593445  \n",
       "75%                   -48.132701                 31.499883    109.549595  \n",
       "max                   -22.653170                 42.060436   3167.768000  \n",
       "\n",
       "[8 rows x 75 columns]"
      ]
     },
     "execution_count": 4,
     "metadata": {},
     "output_type": "execute_result"
    }
   ],
   "source": [
    "df.describe()"
   ]
  },
  {
   "cell_type": "code",
   "execution_count": 5,
   "id": "c27911da",
   "metadata": {
    "execution": {
     "iopub.execute_input": "2023-08-17T05:01:02.325441Z",
     "iopub.status.busy": "2023-08-17T05:01:02.325041Z",
     "iopub.status.idle": "2023-08-17T05:01:07.879079Z",
     "shell.execute_reply": "2023-08-17T05:01:07.877830Z"
    },
    "papermill": {
     "duration": 5.569002,
     "end_time": "2023-08-17T05:01:07.882132",
     "exception": false,
     "start_time": "2023-08-17T05:01:02.313130",
     "status": "completed"
    },
    "tags": []
   },
   "outputs": [
    {
     "name": "stderr",
     "output_type": "stream",
     "text": [
      "/tmp/ipykernel_20/2622515659.py:1: FutureWarning: The default value of numeric_only in DataFrame.mean is deprecated. In a future version, it will default to False. In addition, specifying 'numeric_only=None' is deprecated. Select only valid columns or specify the value of numeric_only to silence this warning.\n",
      "  df.fillna(df.mean(), inplace = True)\n"
     ]
    }
   ],
   "source": [
    "df.fillna(df.mean(), inplace = True)"
   ]
  },
  {
   "cell_type": "code",
   "execution_count": 6,
   "id": "acf55187",
   "metadata": {
    "execution": {
     "iopub.execute_input": "2023-08-17T05:01:07.907709Z",
     "iopub.status.busy": "2023-08-17T05:01:07.906847Z",
     "iopub.status.idle": "2023-08-17T05:01:07.952098Z",
     "shell.execute_reply": "2023-08-17T05:01:07.950799Z"
    },
    "papermill": {
     "duration": 0.060106,
     "end_time": "2023-08-17T05:01:07.954797",
     "exception": false,
     "start_time": "2023-08-17T05:01:07.894691",
     "status": "completed"
    },
    "tags": []
   },
   "outputs": [
    {
     "data": {
      "text/plain": [
       "ID_LAT_LON_YEAR_WEEK          0\n",
       "latitude                      0\n",
       "longitude                     0\n",
       "year                          0\n",
       "week_no                       0\n",
       "                             ..\n",
       "Cloud_sensor_azimuth_angle    0\n",
       "Cloud_sensor_zenith_angle     0\n",
       "Cloud_solar_azimuth_angle     0\n",
       "Cloud_solar_zenith_angle      0\n",
       "emission                      0\n",
       "Length: 76, dtype: int64"
      ]
     },
     "execution_count": 6,
     "metadata": {},
     "output_type": "execute_result"
    }
   ],
   "source": [
    "df.isna().sum()"
   ]
  },
  {
   "cell_type": "code",
   "execution_count": 7,
   "id": "a9986140",
   "metadata": {
    "execution": {
     "iopub.execute_input": "2023-08-17T05:01:07.979726Z",
     "iopub.status.busy": "2023-08-17T05:01:07.979342Z",
     "iopub.status.idle": "2023-08-17T05:01:07.986817Z",
     "shell.execute_reply": "2023-08-17T05:01:07.985510Z"
    },
    "papermill": {
     "duration": 0.023012,
     "end_time": "2023-08-17T05:01:07.989316",
     "exception": false,
     "start_time": "2023-08-17T05:01:07.966304",
     "status": "completed"
    },
    "tags": []
   },
   "outputs": [
    {
     "data": {
      "text/plain": [
       "(79023, 76)"
      ]
     },
     "execution_count": 7,
     "metadata": {},
     "output_type": "execute_result"
    }
   ],
   "source": [
    "df.shape"
   ]
  },
  {
   "cell_type": "code",
   "execution_count": 8,
   "id": "10596703",
   "metadata": {
    "execution": {
     "iopub.execute_input": "2023-08-17T05:01:08.014726Z",
     "iopub.status.busy": "2023-08-17T05:01:08.014318Z",
     "iopub.status.idle": "2023-08-17T05:01:08.030502Z",
     "shell.execute_reply": "2023-08-17T05:01:08.029283Z"
    },
    "papermill": {
     "duration": 0.03324,
     "end_time": "2023-08-17T05:01:08.034132",
     "exception": false,
     "start_time": "2023-08-17T05:01:08.000892",
     "status": "completed"
    },
    "tags": []
   },
   "outputs": [],
   "source": [
    "X = df.iloc[: , 1:75]\n",
    "Y = df.iloc[:,-1]"
   ]
  },
  {
   "cell_type": "code",
   "execution_count": 9,
   "id": "71f4f145",
   "metadata": {
    "execution": {
     "iopub.execute_input": "2023-08-17T05:01:08.059170Z",
     "iopub.status.busy": "2023-08-17T05:01:08.058741Z",
     "iopub.status.idle": "2023-08-17T05:01:09.472573Z",
     "shell.execute_reply": "2023-08-17T05:01:09.471519Z"
    },
    "papermill": {
     "duration": 1.430409,
     "end_time": "2023-08-17T05:01:09.476708",
     "exception": false,
     "start_time": "2023-08-17T05:01:08.046299",
     "status": "completed"
    },
    "tags": []
   },
   "outputs": [
    {
     "name": "stderr",
     "output_type": "stream",
     "text": [
      "/opt/conda/lib/python3.10/site-packages/scipy/__init__.py:146: UserWarning: A NumPy version >=1.16.5 and <1.23.0 is required for this version of SciPy (detected version 1.23.5\n",
      "  warnings.warn(f\"A NumPy version >={np_minversion} and <{np_maxversion}\"\n"
     ]
    }
   ],
   "source": [
    "from sklearn.model_selection import train_test_split"
   ]
  },
  {
   "cell_type": "code",
   "execution_count": 10,
   "id": "0e50dbcf",
   "metadata": {
    "execution": {
     "iopub.execute_input": "2023-08-17T05:01:09.503099Z",
     "iopub.status.busy": "2023-08-17T05:01:09.502071Z",
     "iopub.status.idle": "2023-08-17T05:01:09.571478Z",
     "shell.execute_reply": "2023-08-17T05:01:09.570009Z"
    },
    "papermill": {
     "duration": 0.087392,
     "end_time": "2023-08-17T05:01:09.575953",
     "exception": false,
     "start_time": "2023-08-17T05:01:09.488561",
     "status": "completed"
    },
    "tags": []
   },
   "outputs": [],
   "source": [
    "X_train, X_test, Y_train, Y_test = train_test_split(X, Y, test_size=0.3, random_state=42)"
   ]
  },
  {
   "cell_type": "code",
   "execution_count": 11,
   "id": "2552681f",
   "metadata": {
    "execution": {
     "iopub.execute_input": "2023-08-17T05:01:09.601983Z",
     "iopub.status.busy": "2023-08-17T05:01:09.601465Z",
     "iopub.status.idle": "2023-08-17T05:01:09.723220Z",
     "shell.execute_reply": "2023-08-17T05:01:09.722289Z"
    },
    "papermill": {
     "duration": 0.13773,
     "end_time": "2023-08-17T05:01:09.725949",
     "exception": false,
     "start_time": "2023-08-17T05:01:09.588219",
     "status": "completed"
    },
    "tags": []
   },
   "outputs": [],
   "source": [
    "from sklearn.linear_model import Ridge\n",
    "from sklearn.model_selection import GridSearchCV"
   ]
  },
  {
   "cell_type": "code",
   "execution_count": 12,
   "id": "e779b694",
   "metadata": {
    "execution": {
     "iopub.execute_input": "2023-08-17T05:01:09.750913Z",
     "iopub.status.busy": "2023-08-17T05:01:09.749847Z",
     "iopub.status.idle": "2023-08-17T05:01:09.754673Z",
     "shell.execute_reply": "2023-08-17T05:01:09.753739Z"
    },
    "papermill": {
     "duration": 0.019689,
     "end_time": "2023-08-17T05:01:09.757180",
     "exception": false,
     "start_time": "2023-08-17T05:01:09.737491",
     "status": "completed"
    },
    "tags": []
   },
   "outputs": [],
   "source": [
    "ridge_regressor=Ridge()"
   ]
  },
  {
   "cell_type": "code",
   "execution_count": 13,
   "id": "494f8d62",
   "metadata": {
    "execution": {
     "iopub.execute_input": "2023-08-17T05:01:09.782458Z",
     "iopub.status.busy": "2023-08-17T05:01:09.782035Z",
     "iopub.status.idle": "2023-08-17T05:01:18.901694Z",
     "shell.execute_reply": "2023-08-17T05:01:18.899867Z"
    },
    "papermill": {
     "duration": 9.137109,
     "end_time": "2023-08-17T05:01:18.906400",
     "exception": false,
     "start_time": "2023-08-17T05:01:09.769291",
     "status": "completed"
    },
    "tags": []
   },
   "outputs": [
    {
     "data": {
      "text/html": [
       "<style>#sk-container-id-1 {color: black;background-color: white;}#sk-container-id-1 pre{padding: 0;}#sk-container-id-1 div.sk-toggleable {background-color: white;}#sk-container-id-1 label.sk-toggleable__label {cursor: pointer;display: block;width: 100%;margin-bottom: 0;padding: 0.3em;box-sizing: border-box;text-align: center;}#sk-container-id-1 label.sk-toggleable__label-arrow:before {content: \"▸\";float: left;margin-right: 0.25em;color: #696969;}#sk-container-id-1 label.sk-toggleable__label-arrow:hover:before {color: black;}#sk-container-id-1 div.sk-estimator:hover label.sk-toggleable__label-arrow:before {color: black;}#sk-container-id-1 div.sk-toggleable__content {max-height: 0;max-width: 0;overflow: hidden;text-align: left;background-color: #f0f8ff;}#sk-container-id-1 div.sk-toggleable__content pre {margin: 0.2em;color: black;border-radius: 0.25em;background-color: #f0f8ff;}#sk-container-id-1 input.sk-toggleable__control:checked~div.sk-toggleable__content {max-height: 200px;max-width: 100%;overflow: auto;}#sk-container-id-1 input.sk-toggleable__control:checked~label.sk-toggleable__label-arrow:before {content: \"▾\";}#sk-container-id-1 div.sk-estimator input.sk-toggleable__control:checked~label.sk-toggleable__label {background-color: #d4ebff;}#sk-container-id-1 div.sk-label input.sk-toggleable__control:checked~label.sk-toggleable__label {background-color: #d4ebff;}#sk-container-id-1 input.sk-hidden--visually {border: 0;clip: rect(1px 1px 1px 1px);clip: rect(1px, 1px, 1px, 1px);height: 1px;margin: -1px;overflow: hidden;padding: 0;position: absolute;width: 1px;}#sk-container-id-1 div.sk-estimator {font-family: monospace;background-color: #f0f8ff;border: 1px dotted black;border-radius: 0.25em;box-sizing: border-box;margin-bottom: 0.5em;}#sk-container-id-1 div.sk-estimator:hover {background-color: #d4ebff;}#sk-container-id-1 div.sk-parallel-item::after {content: \"\";width: 100%;border-bottom: 1px solid gray;flex-grow: 1;}#sk-container-id-1 div.sk-label:hover label.sk-toggleable__label {background-color: #d4ebff;}#sk-container-id-1 div.sk-serial::before {content: \"\";position: absolute;border-left: 1px solid gray;box-sizing: border-box;top: 0;bottom: 0;left: 50%;z-index: 0;}#sk-container-id-1 div.sk-serial {display: flex;flex-direction: column;align-items: center;background-color: white;padding-right: 0.2em;padding-left: 0.2em;position: relative;}#sk-container-id-1 div.sk-item {position: relative;z-index: 1;}#sk-container-id-1 div.sk-parallel {display: flex;align-items: stretch;justify-content: center;background-color: white;position: relative;}#sk-container-id-1 div.sk-item::before, #sk-container-id-1 div.sk-parallel-item::before {content: \"\";position: absolute;border-left: 1px solid gray;box-sizing: border-box;top: 0;bottom: 0;left: 50%;z-index: -1;}#sk-container-id-1 div.sk-parallel-item {display: flex;flex-direction: column;z-index: 1;position: relative;background-color: white;}#sk-container-id-1 div.sk-parallel-item:first-child::after {align-self: flex-end;width: 50%;}#sk-container-id-1 div.sk-parallel-item:last-child::after {align-self: flex-start;width: 50%;}#sk-container-id-1 div.sk-parallel-item:only-child::after {width: 0;}#sk-container-id-1 div.sk-dashed-wrapped {border: 1px dashed gray;margin: 0 0.4em 0.5em 0.4em;box-sizing: border-box;padding-bottom: 0.4em;background-color: white;}#sk-container-id-1 div.sk-label label {font-family: monospace;font-weight: bold;display: inline-block;line-height: 1.2em;}#sk-container-id-1 div.sk-label-container {text-align: center;}#sk-container-id-1 div.sk-container {/* jupyter's `normalize.less` sets `[hidden] { display: none; }` but bootstrap.min.css set `[hidden] { display: none !important; }` so we also need the `!important` here to be able to override the default hidden behavior on the sphinx rendered scikit-learn.org. See: https://github.com/scikit-learn/scikit-learn/issues/21755 */display: inline-block !important;position: relative;}#sk-container-id-1 div.sk-text-repr-fallback {display: none;}</style><div id=\"sk-container-id-1\" class=\"sk-top-container\"><div class=\"sk-text-repr-fallback\"><pre>GridSearchCV(cv=5, estimator=Ridge(),\n",
       "             param_grid={&#x27;alpha&#x27;: [1, 2, 5, 10, 20, 30, 40, 50, 60, 70, 80,\n",
       "                                   90]},\n",
       "             scoring=&#x27;neg_mean_squared_error&#x27;)</pre><b>In a Jupyter environment, please rerun this cell to show the HTML representation or trust the notebook. <br />On GitHub, the HTML representation is unable to render, please try loading this page with nbviewer.org.</b></div><div class=\"sk-container\" hidden><div class=\"sk-item sk-dashed-wrapped\"><div class=\"sk-label-container\"><div class=\"sk-label sk-toggleable\"><input class=\"sk-toggleable__control sk-hidden--visually\" id=\"sk-estimator-id-1\" type=\"checkbox\" ><label for=\"sk-estimator-id-1\" class=\"sk-toggleable__label sk-toggleable__label-arrow\">GridSearchCV</label><div class=\"sk-toggleable__content\"><pre>GridSearchCV(cv=5, estimator=Ridge(),\n",
       "             param_grid={&#x27;alpha&#x27;: [1, 2, 5, 10, 20, 30, 40, 50, 60, 70, 80,\n",
       "                                   90]},\n",
       "             scoring=&#x27;neg_mean_squared_error&#x27;)</pre></div></div></div><div class=\"sk-parallel\"><div class=\"sk-parallel-item\"><div class=\"sk-item\"><div class=\"sk-label-container\"><div class=\"sk-label sk-toggleable\"><input class=\"sk-toggleable__control sk-hidden--visually\" id=\"sk-estimator-id-2\" type=\"checkbox\" ><label for=\"sk-estimator-id-2\" class=\"sk-toggleable__label sk-toggleable__label-arrow\">estimator: Ridge</label><div class=\"sk-toggleable__content\"><pre>Ridge()</pre></div></div></div><div class=\"sk-serial\"><div class=\"sk-item\"><div class=\"sk-estimator sk-toggleable\"><input class=\"sk-toggleable__control sk-hidden--visually\" id=\"sk-estimator-id-3\" type=\"checkbox\" ><label for=\"sk-estimator-id-3\" class=\"sk-toggleable__label sk-toggleable__label-arrow\">Ridge</label><div class=\"sk-toggleable__content\"><pre>Ridge()</pre></div></div></div></div></div></div></div></div></div></div>"
      ],
      "text/plain": [
       "GridSearchCV(cv=5, estimator=Ridge(),\n",
       "             param_grid={'alpha': [1, 2, 5, 10, 20, 30, 40, 50, 60, 70, 80,\n",
       "                                   90]},\n",
       "             scoring='neg_mean_squared_error')"
      ]
     },
     "execution_count": 13,
     "metadata": {},
     "output_type": "execute_result"
    }
   ],
   "source": [
    "parameters={'alpha':[1,2,5,10,20,30,40,50,60,70,80,90]}\n",
    "ridgecv=GridSearchCV(ridge_regressor,parameters,scoring='neg_mean_squared_error', cv=5)\n",
    "ridgecv.fit(X_train, Y_train)"
   ]
  },
  {
   "cell_type": "code",
   "execution_count": 14,
   "id": "b4d2798f",
   "metadata": {
    "execution": {
     "iopub.execute_input": "2023-08-17T05:01:18.988049Z",
     "iopub.status.busy": "2023-08-17T05:01:18.987584Z",
     "iopub.status.idle": "2023-08-17T05:01:18.993382Z",
     "shell.execute_reply": "2023-08-17T05:01:18.992180Z"
    },
    "papermill": {
     "duration": 0.043928,
     "end_time": "2023-08-17T05:01:18.996352",
     "exception": false,
     "start_time": "2023-08-17T05:01:18.952424",
     "status": "completed"
    },
    "tags": []
   },
   "outputs": [
    {
     "name": "stdout",
     "output_type": "stream",
     "text": [
      "{'alpha': 1}\n"
     ]
    }
   ],
   "source": [
    "print(ridgecv.best_params_)"
   ]
  },
  {
   "cell_type": "code",
   "execution_count": 15,
   "id": "0ff8ff31",
   "metadata": {
    "execution": {
     "iopub.execute_input": "2023-08-17T05:01:19.021910Z",
     "iopub.status.busy": "2023-08-17T05:01:19.021110Z",
     "iopub.status.idle": "2023-08-17T05:01:19.027573Z",
     "shell.execute_reply": "2023-08-17T05:01:19.026241Z"
    },
    "papermill": {
     "duration": 0.021952,
     "end_time": "2023-08-17T05:01:19.029847",
     "exception": false,
     "start_time": "2023-08-17T05:01:19.007895",
     "status": "completed"
    },
    "tags": []
   },
   "outputs": [
    {
     "name": "stdout",
     "output_type": "stream",
     "text": [
      "-21224.864363136963\n"
     ]
    }
   ],
   "source": [
    "print(ridgecv.best_score_)"
   ]
  },
  {
   "cell_type": "code",
   "execution_count": 16,
   "id": "72cc2d30",
   "metadata": {
    "execution": {
     "iopub.execute_input": "2023-08-17T05:01:19.055574Z",
     "iopub.status.busy": "2023-08-17T05:01:19.054790Z",
     "iopub.status.idle": "2023-08-17T05:01:19.073705Z",
     "shell.execute_reply": "2023-08-17T05:01:19.072033Z"
    },
    "papermill": {
     "duration": 0.036679,
     "end_time": "2023-08-17T05:01:19.078131",
     "exception": false,
     "start_time": "2023-08-17T05:01:19.041452",
     "status": "completed"
    },
    "tags": []
   },
   "outputs": [],
   "source": [
    "ridge_pred = ridgecv.predict(X_test)"
   ]
  },
  {
   "cell_type": "code",
   "execution_count": 17,
   "id": "42f1d6e1",
   "metadata": {
    "execution": {
     "iopub.execute_input": "2023-08-17T05:01:19.134803Z",
     "iopub.status.busy": "2023-08-17T05:01:19.134109Z",
     "iopub.status.idle": "2023-08-17T05:01:20.325455Z",
     "shell.execute_reply": "2023-08-17T05:01:20.324093Z"
    },
    "papermill": {
     "duration": 1.224559,
     "end_time": "2023-08-17T05:01:20.329176",
     "exception": false,
     "start_time": "2023-08-17T05:01:19.104617",
     "status": "completed"
    },
    "tags": []
   },
   "outputs": [
    {
     "name": "stderr",
     "output_type": "stream",
     "text": [
      "/opt/conda/lib/python3.10/site-packages/seaborn/axisgrid.py:118: UserWarning: The figure layout has changed to tight\n",
      "  self._figure.tight_layout(*args, **kwargs)\n"
     ]
    },
    {
     "data": {
      "text/plain": [
       "<seaborn.axisgrid.FacetGrid at 0x7f7f04d82e30>"
      ]
     },
     "execution_count": 17,
     "metadata": {},
     "output_type": "execute_result"
    },
    {
     "data": {
      "image/png": "[encoded data removed]",
      "text/plain": [
       "<Figure size 500x500 with 1 Axes>"
      ]
     },
     "metadata": {},
     "output_type": "display_data"
    }
   ],
   "source": [
    "import seaborn as sns\n",
    "sns.displot(ridge_pred-Y_test, kind='kde')"
   ]
  },
  {
   "cell_type": "code",
   "execution_count": 18,
   "id": "90fe90fe",
   "metadata": {
    "execution": {
     "iopub.execute_input": "2023-08-17T05:01:20.360898Z",
     "iopub.status.busy": "2023-08-17T05:01:20.359579Z",
     "iopub.status.idle": "2023-08-17T05:01:20.379962Z",
     "shell.execute_reply": "2023-08-17T05:01:20.378492Z"
    },
    "papermill": {
     "duration": 0.042638,
     "end_time": "2023-08-17T05:01:20.385577",
     "exception": false,
     "start_time": "2023-08-17T05:01:20.342939",
     "status": "completed"
    },
    "tags": []
   },
   "outputs": [
    {
     "name": "stdout",
     "output_type": "stream",
     "text": [
      "Test RMSE: 134.5591720014639\n"
     ]
    }
   ],
   "source": [
    "from sklearn.metrics import mean_squared_error\n",
    "import numpy as np\n",
    "\n",
    "# Assuming ridgecv is your best estimator from GridSearchCV\n",
    "Y_pred = ridgecv.predict(X_test)\n",
    "test_rmse = np.sqrt(mean_squared_error(Y_test, Y_pred))\n",
    "\n",
    "print(\"Test RMSE:\", test_rmse)\n"
   ]
  },
  {
   "cell_type": "code",
   "execution_count": 19,
   "id": "b6a079c9",
   "metadata": {
    "execution": {
     "iopub.execute_input": "2023-08-17T05:01:20.454818Z",
     "iopub.status.busy": "2023-08-17T05:01:20.453876Z",
     "iopub.status.idle": "2023-08-17T05:01:20.508836Z",
     "shell.execute_reply": "2023-08-17T05:01:20.507787Z"
    },
    "papermill": {
     "duration": 0.091538,
     "end_time": "2023-08-17T05:01:20.512545",
     "exception": false,
     "start_time": "2023-08-17T05:01:20.421007",
     "status": "completed"
    },
    "tags": []
   },
   "outputs": [],
   "source": [
    "sample_df = pd.read_csv('/kaggle/input/playground-series-s3e20/sample_submission.csv')"
   ]
  },
  {
   "cell_type": "code",
   "execution_count": 20,
   "id": "6596314a",
   "metadata": {
    "execution": {
     "iopub.execute_input": "2023-08-17T05:01:20.541553Z",
     "iopub.status.busy": "2023-08-17T05:01:20.541117Z",
     "iopub.status.idle": "2023-08-17T05:01:21.280887Z",
     "shell.execute_reply": "2023-08-17T05:01:21.279522Z"
    },
    "papermill": {
     "duration": 0.757137,
     "end_time": "2023-08-17T05:01:21.283945",
     "exception": false,
     "start_time": "2023-08-17T05:01:20.526808",
     "status": "completed"
    },
    "tags": []
   },
   "outputs": [],
   "source": [
    "test_df = pd.read_csv('/kaggle/input/playground-series-s3e20/test.csv')"
   ]
  },
  {
   "cell_type": "code",
   "execution_count": 21,
   "id": "f6c5c95d",
   "metadata": {
    "execution": {
     "iopub.execute_input": "2023-08-17T05:01:21.310945Z",
     "iopub.status.busy": "2023-08-17T05:01:21.310546Z",
     "iopub.status.idle": "2023-08-17T05:01:21.354121Z",
     "shell.execute_reply": "2023-08-17T05:01:21.352569Z"
    },
    "papermill": {
     "duration": 0.060509,
     "end_time": "2023-08-17T05:01:21.357067",
     "exception": false,
     "start_time": "2023-08-17T05:01:21.296558",
     "status": "completed"
    },
    "tags": []
   },
   "outputs": [
    {
     "data": {
      "text/html": [
       "<div>\n",
       "<style scoped>\n",
       "    .dataframe tbody tr th:only-of-type {\n",
       "        vertical-align: middle;\n",
       "    }\n",
       "\n",
       "    .dataframe tbody tr th {\n",
       "        vertical-align: top;\n",
       "    }\n",
       "\n",
       "    .dataframe thead th {\n",
       "        text-align: right;\n",
       "    }\n",
       "</style>\n",
       "<table border=\"1\" class=\"dataframe\">\n",
       "  <thead>\n",
       "    <tr style=\"text-align: right;\">\n",
       "      <th></th>\n",
       "      <th>ID_LAT_LON_YEAR_WEEK</th>\n",
       "      <th>latitude</th>\n",
       "      <th>longitude</th>\n",
       "      <th>year</th>\n",
       "      <th>week_no</th>\n",
       "      <th>SulphurDioxide_SO2_column_number_density</th>\n",
       "      <th>SulphurDioxide_SO2_column_number_density_amf</th>\n",
       "      <th>SulphurDioxide_SO2_slant_column_number_density</th>\n",
       "      <th>SulphurDioxide_cloud_fraction</th>\n",
       "      <th>SulphurDioxide_sensor_azimuth_angle</th>\n",
       "      <th>...</th>\n",
       "      <th>Cloud_cloud_top_pressure</th>\n",
       "      <th>Cloud_cloud_top_height</th>\n",
       "      <th>Cloud_cloud_base_pressure</th>\n",
       "      <th>Cloud_cloud_base_height</th>\n",
       "      <th>Cloud_cloud_optical_depth</th>\n",
       "      <th>Cloud_surface_albedo</th>\n",
       "      <th>Cloud_sensor_azimuth_angle</th>\n",
       "      <th>Cloud_sensor_zenith_angle</th>\n",
       "      <th>Cloud_solar_azimuth_angle</th>\n",
       "      <th>Cloud_solar_zenith_angle</th>\n",
       "    </tr>\n",
       "  </thead>\n",
       "  <tbody>\n",
       "    <tr>\n",
       "      <th>0</th>\n",
       "      <td>ID_-0.510_29.290_2022_00</td>\n",
       "      <td>-0.510</td>\n",
       "      <td>29.290</td>\n",
       "      <td>2022</td>\n",
       "      <td>0</td>\n",
       "      <td>NaN</td>\n",
       "      <td>NaN</td>\n",
       "      <td>NaN</td>\n",
       "      <td>NaN</td>\n",
       "      <td>NaN</td>\n",
       "      <td>...</td>\n",
       "      <td>36022.027344</td>\n",
       "      <td>8472.313477</td>\n",
       "      <td>41047.937500</td>\n",
       "      <td>7472.313477</td>\n",
       "      <td>7.935617</td>\n",
       "      <td>0.240773</td>\n",
       "      <td>-100.113792</td>\n",
       "      <td>33.697044</td>\n",
       "      <td>-133.047546</td>\n",
       "      <td>33.779583</td>\n",
       "    </tr>\n",
       "    <tr>\n",
       "      <th>1</th>\n",
       "      <td>ID_-0.510_29.290_2022_01</td>\n",
       "      <td>-0.510</td>\n",
       "      <td>29.290</td>\n",
       "      <td>2022</td>\n",
       "      <td>1</td>\n",
       "      <td>0.000456</td>\n",
       "      <td>0.691164</td>\n",
       "      <td>0.000316</td>\n",
       "      <td>0.000000</td>\n",
       "      <td>76.239196</td>\n",
       "      <td>...</td>\n",
       "      <td>48539.737242</td>\n",
       "      <td>6476.147323</td>\n",
       "      <td>54915.708579</td>\n",
       "      <td>5476.147161</td>\n",
       "      <td>11.448437</td>\n",
       "      <td>0.293119</td>\n",
       "      <td>-30.510319</td>\n",
       "      <td>42.402593</td>\n",
       "      <td>-138.632822</td>\n",
       "      <td>31.012380</td>\n",
       "    </tr>\n",
       "    <tr>\n",
       "      <th>2</th>\n",
       "      <td>ID_-0.510_29.290_2022_02</td>\n",
       "      <td>-0.510</td>\n",
       "      <td>29.290</td>\n",
       "      <td>2022</td>\n",
       "      <td>2</td>\n",
       "      <td>0.000161</td>\n",
       "      <td>0.605107</td>\n",
       "      <td>0.000106</td>\n",
       "      <td>0.079870</td>\n",
       "      <td>-42.055341</td>\n",
       "      <td>...</td>\n",
       "      <td>34133.080469</td>\n",
       "      <td>8984.795703</td>\n",
       "      <td>39006.093750</td>\n",
       "      <td>7984.795703</td>\n",
       "      <td>10.753179</td>\n",
       "      <td>0.267130</td>\n",
       "      <td>39.087361</td>\n",
       "      <td>45.936480</td>\n",
       "      <td>-144.784988</td>\n",
       "      <td>26.743361</td>\n",
       "    </tr>\n",
       "    <tr>\n",
       "      <th>3</th>\n",
       "      <td>ID_-0.510_29.290_2022_03</td>\n",
       "      <td>-0.510</td>\n",
       "      <td>29.290</td>\n",
       "      <td>2022</td>\n",
       "      <td>3</td>\n",
       "      <td>0.000350</td>\n",
       "      <td>0.696917</td>\n",
       "      <td>0.000243</td>\n",
       "      <td>0.201028</td>\n",
       "      <td>72.169566</td>\n",
       "      <td>...</td>\n",
       "      <td>50854.991076</td>\n",
       "      <td>6014.724059</td>\n",
       "      <td>57646.368368</td>\n",
       "      <td>5014.724115</td>\n",
       "      <td>11.764556</td>\n",
       "      <td>0.304679</td>\n",
       "      <td>-24.465127</td>\n",
       "      <td>42.140419</td>\n",
       "      <td>-135.027891</td>\n",
       "      <td>29.604774</td>\n",
       "    </tr>\n",
       "    <tr>\n",
       "      <th>4</th>\n",
       "      <td>ID_-0.510_29.290_2022_04</td>\n",
       "      <td>-0.510</td>\n",
       "      <td>29.290</td>\n",
       "      <td>2022</td>\n",
       "      <td>4</td>\n",
       "      <td>-0.000317</td>\n",
       "      <td>0.580527</td>\n",
       "      <td>-0.000184</td>\n",
       "      <td>0.204352</td>\n",
       "      <td>76.190865</td>\n",
       "      <td>...</td>\n",
       "      <td>46594.685145</td>\n",
       "      <td>6849.280477</td>\n",
       "      <td>52896.541873</td>\n",
       "      <td>5849.280394</td>\n",
       "      <td>13.065317</td>\n",
       "      <td>0.284221</td>\n",
       "      <td>-12.907850</td>\n",
       "      <td>30.122641</td>\n",
       "      <td>-135.500119</td>\n",
       "      <td>26.276807</td>\n",
       "    </tr>\n",
       "    <tr>\n",
       "      <th>...</th>\n",
       "      <td>...</td>\n",
       "      <td>...</td>\n",
       "      <td>...</td>\n",
       "      <td>...</td>\n",
       "      <td>...</td>\n",
       "      <td>...</td>\n",
       "      <td>...</td>\n",
       "      <td>...</td>\n",
       "      <td>...</td>\n",
       "      <td>...</td>\n",
       "      <td>...</td>\n",
       "      <td>...</td>\n",
       "      <td>...</td>\n",
       "      <td>...</td>\n",
       "      <td>...</td>\n",
       "      <td>...</td>\n",
       "      <td>...</td>\n",
       "      <td>...</td>\n",
       "      <td>...</td>\n",
       "      <td>...</td>\n",
       "      <td>...</td>\n",
       "    </tr>\n",
       "    <tr>\n",
       "      <th>24348</th>\n",
       "      <td>ID_-3.299_30.301_2022_44</td>\n",
       "      <td>-3.299</td>\n",
       "      <td>30.301</td>\n",
       "      <td>2022</td>\n",
       "      <td>44</td>\n",
       "      <td>-0.000618</td>\n",
       "      <td>0.745549</td>\n",
       "      <td>-0.000461</td>\n",
       "      <td>0.234492</td>\n",
       "      <td>72.306198</td>\n",
       "      <td>...</td>\n",
       "      <td>48839.430415</td>\n",
       "      <td>6260.120033</td>\n",
       "      <td>55483.459980</td>\n",
       "      <td>5260.120056</td>\n",
       "      <td>30.398508</td>\n",
       "      <td>0.180046</td>\n",
       "      <td>-25.528588</td>\n",
       "      <td>45.284576</td>\n",
       "      <td>-116.521412</td>\n",
       "      <td>29.992562</td>\n",
       "    </tr>\n",
       "    <tr>\n",
       "      <th>24349</th>\n",
       "      <td>ID_-3.299_30.301_2022_45</td>\n",
       "      <td>-3.299</td>\n",
       "      <td>30.301</td>\n",
       "      <td>2022</td>\n",
       "      <td>45</td>\n",
       "      <td>NaN</td>\n",
       "      <td>NaN</td>\n",
       "      <td>NaN</td>\n",
       "      <td>NaN</td>\n",
       "      <td>NaN</td>\n",
       "      <td>...</td>\n",
       "      <td>47042.694849</td>\n",
       "      <td>6678.843299</td>\n",
       "      <td>53589.917383</td>\n",
       "      <td>5678.951521</td>\n",
       "      <td>19.223844</td>\n",
       "      <td>0.177833</td>\n",
       "      <td>-13.380005</td>\n",
       "      <td>43.770351</td>\n",
       "      <td>-122.405759</td>\n",
       "      <td>29.017975</td>\n",
       "    </tr>\n",
       "    <tr>\n",
       "      <th>24350</th>\n",
       "      <td>ID_-3.299_30.301_2022_46</td>\n",
       "      <td>-3.299</td>\n",
       "      <td>30.301</td>\n",
       "      <td>2022</td>\n",
       "      <td>46</td>\n",
       "      <td>NaN</td>\n",
       "      <td>NaN</td>\n",
       "      <td>NaN</td>\n",
       "      <td>NaN</td>\n",
       "      <td>NaN</td>\n",
       "      <td>...</td>\n",
       "      <td>55337.148173</td>\n",
       "      <td>5336.282475</td>\n",
       "      <td>62646.761340</td>\n",
       "      <td>4336.282491</td>\n",
       "      <td>13.801194</td>\n",
       "      <td>0.219471</td>\n",
       "      <td>-5.072065</td>\n",
       "      <td>33.226455</td>\n",
       "      <td>-124.530639</td>\n",
       "      <td>30.187472</td>\n",
       "    </tr>\n",
       "    <tr>\n",
       "      <th>24351</th>\n",
       "      <td>ID_-3.299_30.301_2022_47</td>\n",
       "      <td>-3.299</td>\n",
       "      <td>30.301</td>\n",
       "      <td>2022</td>\n",
       "      <td>47</td>\n",
       "      <td>0.000071</td>\n",
       "      <td>1.003805</td>\n",
       "      <td>0.000077</td>\n",
       "      <td>0.205077</td>\n",
       "      <td>74.327427</td>\n",
       "      <td>...</td>\n",
       "      <td>44813.691428</td>\n",
       "      <td>7188.578533</td>\n",
       "      <td>50728.313991</td>\n",
       "      <td>6188.578464</td>\n",
       "      <td>27.887489</td>\n",
       "      <td>0.247275</td>\n",
       "      <td>-0.668714</td>\n",
       "      <td>45.885617</td>\n",
       "      <td>-129.006797</td>\n",
       "      <td>30.427455</td>\n",
       "    </tr>\n",
       "    <tr>\n",
       "      <th>24352</th>\n",
       "      <td>ID_-3.299_30.301_2022_48</td>\n",
       "      <td>-3.299</td>\n",
       "      <td>30.301</td>\n",
       "      <td>2022</td>\n",
       "      <td>48</td>\n",
       "      <td>NaN</td>\n",
       "      <td>NaN</td>\n",
       "      <td>NaN</td>\n",
       "      <td>NaN</td>\n",
       "      <td>NaN</td>\n",
       "      <td>...</td>\n",
       "      <td>40528.702057</td>\n",
       "      <td>7777.863638</td>\n",
       "      <td>46260.039092</td>\n",
       "      <td>6777.863819</td>\n",
       "      <td>23.771269</td>\n",
       "      <td>0.239684</td>\n",
       "      <td>-40.826139</td>\n",
       "      <td>30.680056</td>\n",
       "      <td>-124.895473</td>\n",
       "      <td>34.457720</td>\n",
       "    </tr>\n",
       "  </tbody>\n",
       "</table>\n",
       "<p>24353 rows × 75 columns</p>\n",
       "</div>"
      ],
      "text/plain": [
       "           ID_LAT_LON_YEAR_WEEK  latitude  longitude  year  week_no  \\\n",
       "0      ID_-0.510_29.290_2022_00    -0.510     29.290  2022        0   \n",
       "1      ID_-0.510_29.290_2022_01    -0.510     29.290  2022        1   \n",
       "2      ID_-0.510_29.290_2022_02    -0.510     29.290  2022        2   \n",
       "3      ID_-0.510_29.290_2022_03    -0.510     29.290  2022        3   \n",
       "4      ID_-0.510_29.290_2022_04    -0.510     29.290  2022        4   \n",
       "...                         ...       ...        ...   ...      ...   \n",
       "24348  ID_-3.299_30.301_2022_44    -3.299     30.301  2022       44   \n",
       "24349  ID_-3.299_30.301_2022_45    -3.299     30.301  2022       45   \n",
       "24350  ID_-3.299_30.301_2022_46    -3.299     30.301  2022       46   \n",
       "24351  ID_-3.299_30.301_2022_47    -3.299     30.301  2022       47   \n",
       "24352  ID_-3.299_30.301_2022_48    -3.299     30.301  2022       48   \n",
       "\n",
       "       SulphurDioxide_SO2_column_number_density  \\\n",
       "0                                           NaN   \n",
       "1                                      0.000456   \n",
       "2                                      0.000161   \n",
       "3                                      0.000350   \n",
       "4                                     -0.000317   \n",
       "...                                         ...   \n",
       "24348                                 -0.000618   \n",
       "24349                                       NaN   \n",
       "24350                                       NaN   \n",
       "24351                                  0.000071   \n",
       "24352                                       NaN   \n",
       "\n",
       "       SulphurDioxide_SO2_column_number_density_amf  \\\n",
       "0                                               NaN   \n",
       "1                                          0.691164   \n",
       "2                                          0.605107   \n",
       "3                                          0.696917   \n",
       "4                                          0.580527   \n",
       "...                                             ...   \n",
       "24348                                      0.745549   \n",
       "24349                                           NaN   \n",
       "24350                                           NaN   \n",
       "24351                                      1.003805   \n",
       "24352                                           NaN   \n",
       "\n",
       "       SulphurDioxide_SO2_slant_column_number_density  \\\n",
       "0                                                 NaN   \n",
       "1                                            0.000316   \n",
       "2                                            0.000106   \n",
       "3                                            0.000243   \n",
       "4                                           -0.000184   \n",
       "...                                               ...   \n",
       "24348                                       -0.000461   \n",
       "24349                                             NaN   \n",
       "24350                                             NaN   \n",
       "24351                                        0.000077   \n",
       "24352                                             NaN   \n",
       "\n",
       "       SulphurDioxide_cloud_fraction  SulphurDioxide_sensor_azimuth_angle  \\\n",
       "0                                NaN                                  NaN   \n",
       "1                           0.000000                            76.239196   \n",
       "2                           0.079870                           -42.055341   \n",
       "3                           0.201028                            72.169566   \n",
       "4                           0.204352                            76.190865   \n",
       "...                              ...                                  ...   \n",
       "24348                       0.234492                            72.306198   \n",
       "24349                            NaN                                  NaN   \n",
       "24350                            NaN                                  NaN   \n",
       "24351                       0.205077                            74.327427   \n",
       "24352                            NaN                                  NaN   \n",
       "\n",
       "       ...  Cloud_cloud_top_pressure  Cloud_cloud_top_height  \\\n",
       "0      ...              36022.027344             8472.313477   \n",
       "1      ...              48539.737242             6476.147323   \n",
       "2      ...              34133.080469             8984.795703   \n",
       "3      ...              50854.991076             6014.724059   \n",
       "4      ...              46594.685145             6849.280477   \n",
       "...    ...                       ...                     ...   \n",
       "24348  ...              48839.430415             6260.120033   \n",
       "24349  ...              47042.694849             6678.843299   \n",
       "24350  ...              55337.148173             5336.282475   \n",
       "24351  ...              44813.691428             7188.578533   \n",
       "24352  ...              40528.702057             7777.863638   \n",
       "\n",
       "       Cloud_cloud_base_pressure  Cloud_cloud_base_height  \\\n",
       "0                   41047.937500              7472.313477   \n",
       "1                   54915.708579              5476.147161   \n",
       "2                   39006.093750              7984.795703   \n",
       "3                   57646.368368              5014.724115   \n",
       "4                   52896.541873              5849.280394   \n",
       "...                          ...                      ...   \n",
       "24348               55483.459980              5260.120056   \n",
       "24349               53589.917383              5678.951521   \n",
       "24350               62646.761340              4336.282491   \n",
       "24351               50728.313991              6188.578464   \n",
       "24352               46260.039092              6777.863819   \n",
       "\n",
       "       Cloud_cloud_optical_depth  Cloud_surface_albedo  \\\n",
       "0                       7.935617              0.240773   \n",
       "1                      11.448437              0.293119   \n",
       "2                      10.753179              0.267130   \n",
       "3                      11.764556              0.304679   \n",
       "4                      13.065317              0.284221   \n",
       "...                          ...                   ...   \n",
       "24348                  30.398508              0.180046   \n",
       "24349                  19.223844              0.177833   \n",
       "24350                  13.801194              0.219471   \n",
       "24351                  27.887489              0.247275   \n",
       "24352                  23.771269              0.239684   \n",
       "\n",
       "       Cloud_sensor_azimuth_angle  Cloud_sensor_zenith_angle  \\\n",
       "0                     -100.113792                  33.697044   \n",
       "1                      -30.510319                  42.402593   \n",
       "2                       39.087361                  45.936480   \n",
       "3                      -24.465127                  42.140419   \n",
       "4                      -12.907850                  30.122641   \n",
       "...                           ...                        ...   \n",
       "24348                  -25.528588                  45.284576   \n",
       "24349                  -13.380005                  43.770351   \n",
       "24350                   -5.072065                  33.226455   \n",
       "24351                   -0.668714                  45.885617   \n",
       "24352                  -40.826139                  30.680056   \n",
       "\n",
       "       Cloud_solar_azimuth_angle  Cloud_solar_zenith_angle  \n",
       "0                    -133.047546                 33.779583  \n",
       "1                    -138.632822                 31.012380  \n",
       "2                    -144.784988                 26.743361  \n",
       "3                    -135.027891                 29.604774  \n",
       "4                    -135.500119                 26.276807  \n",
       "...                          ...                       ...  \n",
       "24348                -116.521412                 29.992562  \n",
       "24349                -122.405759                 29.017975  \n",
       "24350                -124.530639                 30.187472  \n",
       "24351                -129.006797                 30.427455  \n",
       "24352                -124.895473                 34.457720  \n",
       "\n",
       "[24353 rows x 75 columns]"
      ]
     },
     "execution_count": 21,
     "metadata": {},
     "output_type": "execute_result"
    }
   ],
   "source": [
    "test_df"
   ]
  },
  {
   "cell_type": "code",
   "execution_count": 22,
   "id": "7adbbcf3",
   "metadata": {
    "execution": {
     "iopub.execute_input": "2023-08-17T05:01:21.386832Z",
     "iopub.status.busy": "2023-08-17T05:01:21.386418Z",
     "iopub.status.idle": "2023-08-17T05:01:21.394040Z",
     "shell.execute_reply": "2023-08-17T05:01:21.392784Z"
    },
    "papermill": {
     "duration": 0.025676,
     "end_time": "2023-08-17T05:01:21.396649",
     "exception": false,
     "start_time": "2023-08-17T05:01:21.370973",
     "status": "completed"
    },
    "tags": []
   },
   "outputs": [
    {
     "data": {
      "text/plain": [
       "(24353, 75)"
      ]
     },
     "execution_count": 22,
     "metadata": {},
     "output_type": "execute_result"
    }
   ],
   "source": [
    "test_df.shape"
   ]
  },
  {
   "cell_type": "code",
   "execution_count": 23,
   "id": "c14b7bf3",
   "metadata": {
    "execution": {
     "iopub.execute_input": "2023-08-17T05:01:21.426020Z",
     "iopub.status.busy": "2023-08-17T05:01:21.425570Z",
     "iopub.status.idle": "2023-08-17T05:01:26.989118Z",
     "shell.execute_reply": "2023-08-17T05:01:26.987832Z"
    },
    "papermill": {
     "duration": 5.581273,
     "end_time": "2023-08-17T05:01:26.991736",
     "exception": false,
     "start_time": "2023-08-17T05:01:21.410463",
     "status": "completed"
    },
    "tags": []
   },
   "outputs": [
    {
     "name": "stderr",
     "output_type": "stream",
     "text": [
      "/tmp/ipykernel_20/2869941606.py:1: FutureWarning: The default value of numeric_only in DataFrame.mean is deprecated. In a future version, it will default to False. In addition, specifying 'numeric_only=None' is deprecated. Select only valid columns or specify the value of numeric_only to silence this warning.\n",
      "  test_df.fillna(df.mean(), inplace = True)\n"
     ]
    }
   ],
   "source": [
    "test_df.fillna(df.mean(), inplace = True)"
   ]
  },
  {
   "cell_type": "code",
   "execution_count": 24,
   "id": "01dbf223",
   "metadata": {
    "execution": {
     "iopub.execute_input": "2023-08-17T05:01:27.022098Z",
     "iopub.status.busy": "2023-08-17T05:01:27.021157Z",
     "iopub.status.idle": "2023-08-17T05:01:27.031822Z",
     "shell.execute_reply": "2023-08-17T05:01:27.030351Z"
    },
    "papermill": {
     "duration": 0.030122,
     "end_time": "2023-08-17T05:01:27.035438",
     "exception": false,
     "start_time": "2023-08-17T05:01:27.005316",
     "status": "completed"
    },
    "tags": []
   },
   "outputs": [],
   "source": [
    "test = test_df.iloc[:, 1:]"
   ]
  },
  {
   "cell_type": "code",
   "execution_count": 25,
   "id": "0202066e",
   "metadata": {
    "execution": {
     "iopub.execute_input": "2023-08-17T05:01:27.066051Z",
     "iopub.status.busy": "2023-08-17T05:01:27.065572Z",
     "iopub.status.idle": "2023-08-17T05:01:27.080704Z",
     "shell.execute_reply": "2023-08-17T05:01:27.078983Z"
    },
    "papermill": {
     "duration": 0.038669,
     "end_time": "2023-08-17T05:01:27.088423",
     "exception": false,
     "start_time": "2023-08-17T05:01:27.049754",
     "status": "completed"
    },
    "tags": []
   },
   "outputs": [],
   "source": [
    "predictions = ridgecv.predict(test)"
   ]
  },
  {
   "cell_type": "code",
   "execution_count": 26,
   "id": "a0426927",
   "metadata": {
    "execution": {
     "iopub.execute_input": "2023-08-17T05:01:27.158559Z",
     "iopub.status.busy": "2023-08-17T05:01:27.157807Z",
     "iopub.status.idle": "2023-08-17T05:01:27.169203Z",
     "shell.execute_reply": "2023-08-17T05:01:27.167708Z"
    },
    "papermill": {
     "duration": 0.053303,
     "end_time": "2023-08-17T05:01:27.173607",
     "exception": false,
     "start_time": "2023-08-17T05:01:27.120304",
     "status": "completed"
    },
    "tags": []
   },
   "outputs": [
    {
     "data": {
      "text/plain": [
       "81.05981164721179"
      ]
     },
     "execution_count": 26,
     "metadata": {},
     "output_type": "execute_result"
    }
   ],
   "source": [
    "predictions.mean()"
   ]
  },
  {
   "cell_type": "code",
   "execution_count": 27,
   "id": "3e2aa31a",
   "metadata": {
    "execution": {
     "iopub.execute_input": "2023-08-17T05:01:27.220706Z",
     "iopub.status.busy": "2023-08-17T05:01:27.220287Z",
     "iopub.status.idle": "2023-08-17T05:01:27.237945Z",
     "shell.execute_reply": "2023-08-17T05:01:27.236564Z"
    },
    "papermill": {
     "duration": 0.038001,
     "end_time": "2023-08-17T05:01:27.240808",
     "exception": false,
     "start_time": "2023-08-17T05:01:27.202807",
     "status": "completed"
    },
    "tags": []
   },
   "outputs": [
    {
     "data": {
      "text/html": [
       "<div>\n",
       "<style scoped>\n",
       "    .dataframe tbody tr th:only-of-type {\n",
       "        vertical-align: middle;\n",
       "    }\n",
       "\n",
       "    .dataframe tbody tr th {\n",
       "        vertical-align: top;\n",
       "    }\n",
       "\n",
       "    .dataframe thead th {\n",
       "        text-align: right;\n",
       "    }\n",
       "</style>\n",
       "<table border=\"1\" class=\"dataframe\">\n",
       "  <thead>\n",
       "    <tr style=\"text-align: right;\">\n",
       "      <th></th>\n",
       "      <th>ID</th>\n",
       "      <th>Predictions</th>\n",
       "    </tr>\n",
       "  </thead>\n",
       "  <tbody>\n",
       "    <tr>\n",
       "      <th>0</th>\n",
       "      <td>ID_-0.510_29.290_2022_00</td>\n",
       "      <td>52.558473</td>\n",
       "    </tr>\n",
       "    <tr>\n",
       "      <th>1</th>\n",
       "      <td>ID_-0.510_29.290_2022_01</td>\n",
       "      <td>61.079958</td>\n",
       "    </tr>\n",
       "    <tr>\n",
       "      <th>2</th>\n",
       "      <td>ID_-0.510_29.290_2022_02</td>\n",
       "      <td>41.125211</td>\n",
       "    </tr>\n",
       "    <tr>\n",
       "      <th>3</th>\n",
       "      <td>ID_-0.510_29.290_2022_03</td>\n",
       "      <td>50.818530</td>\n",
       "    </tr>\n",
       "    <tr>\n",
       "      <th>4</th>\n",
       "      <td>ID_-0.510_29.290_2022_04</td>\n",
       "      <td>78.418212</td>\n",
       "    </tr>\n",
       "    <tr>\n",
       "      <th>...</th>\n",
       "      <td>...</td>\n",
       "      <td>...</td>\n",
       "    </tr>\n",
       "    <tr>\n",
       "      <th>24348</th>\n",
       "      <td>ID_-3.299_30.301_2022_44</td>\n",
       "      <td>72.627474</td>\n",
       "    </tr>\n",
       "    <tr>\n",
       "      <th>24349</th>\n",
       "      <td>ID_-3.299_30.301_2022_45</td>\n",
       "      <td>83.444927</td>\n",
       "    </tr>\n",
       "    <tr>\n",
       "      <th>24350</th>\n",
       "      <td>ID_-3.299_30.301_2022_46</td>\n",
       "      <td>66.555830</td>\n",
       "    </tr>\n",
       "    <tr>\n",
       "      <th>24351</th>\n",
       "      <td>ID_-3.299_30.301_2022_47</td>\n",
       "      <td>95.114515</td>\n",
       "    </tr>\n",
       "    <tr>\n",
       "      <th>24352</th>\n",
       "      <td>ID_-3.299_30.301_2022_48</td>\n",
       "      <td>85.929446</td>\n",
       "    </tr>\n",
       "  </tbody>\n",
       "</table>\n",
       "<p>24353 rows × 2 columns</p>\n",
       "</div>"
      ],
      "text/plain": [
       "                             ID  Predictions\n",
       "0      ID_-0.510_29.290_2022_00    52.558473\n",
       "1      ID_-0.510_29.290_2022_01    61.079958\n",
       "2      ID_-0.510_29.290_2022_02    41.125211\n",
       "3      ID_-0.510_29.290_2022_03    50.818530\n",
       "4      ID_-0.510_29.290_2022_04    78.418212\n",
       "...                         ...          ...\n",
       "24348  ID_-3.299_30.301_2022_44    72.627474\n",
       "24349  ID_-3.299_30.301_2022_45    83.444927\n",
       "24350  ID_-3.299_30.301_2022_46    66.555830\n",
       "24351  ID_-3.299_30.301_2022_47    95.114515\n",
       "24352  ID_-3.299_30.301_2022_48    85.929446\n",
       "\n",
       "[24353 rows x 2 columns]"
      ]
     },
     "execution_count": 27,
     "metadata": {},
     "output_type": "execute_result"
    }
   ],
   "source": [
    "import pandas as pd\n",
    "\n",
    "\n",
    "test_ids = test_df['ID_LAT_LON_YEAR_WEEK']  \n",
    "\n",
    "# Creating a new DataFrame with IDs and predictions\n",
    "result_df = pd.DataFrame({'ID': test_ids, 'Predictions': predictions})\n",
    "\n",
    "result_df\n"
   ]
  },
  {
   "cell_type": "code",
   "execution_count": 28,
   "id": "80619fd6",
   "metadata": {
    "execution": {
     "iopub.execute_input": "2023-08-17T05:01:27.273393Z",
     "iopub.status.busy": "2023-08-17T05:01:27.272267Z",
     "iopub.status.idle": "2023-08-17T05:01:27.408155Z",
     "shell.execute_reply": "2023-08-17T05:01:27.406927Z"
    },
    "papermill": {
     "duration": 0.155905,
     "end_time": "2023-08-17T05:01:27.411259",
     "exception": false,
     "start_time": "2023-08-17T05:01:27.255354",
     "status": "completed"
    },
    "tags": []
   },
   "outputs": [],
   "source": [
    "result_df.to_csv('Submission.csv', index = False)"
   ]
  },
  {
   "cell_type": "code",
   "execution_count": null,
   "id": "6bd5d75d",
   "metadata": {
    "papermill": {
     "duration": 0.013592,
     "end_time": "2023-08-17T05:01:27.438768",
     "exception": false,
     "start_time": "2023-08-17T05:01:27.425176",
     "status": "completed"
    },
    "tags": []
   },
   "outputs": [],
   "source": []
  }
 ],
 "metadata": {
  "kernelspec": {
   "display_name": "Python 3",
   "language": "python",
   "name": "python3"
  },
  "language_info": {
   "codemirror_mode": {
    "name": "ipython",
    "version": 3
   },
   "file_extension": ".py",
   "mimetype": "text/x-python",
   "name": "python",
   "nbconvert_exporter": "python",
   "pygments_lexer": "ipython3",
   "version": "3.10.12"
  },
  "papermill": {
   "default_parameters": {},
   "duration": 41.972052,
   "end_time": "2023-08-17T05:01:28.578319",
   "environment_variables": {},
   "exception": null,
   "input_path": "__notebook__.ipynb",
   "output_path": "__notebook__.ipynb",
   "parameters": {},
   "start_time": "2023-08-17T05:00:46.606267",
   "version": "2.4.0"
  }
 },
 "nbformat": 4,
 "nbformat_minor": 5
}
